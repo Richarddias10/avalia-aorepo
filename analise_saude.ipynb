{
 "cells": [
  {
   "cell_type": "code",
   "execution_count": 100,
   "id": "317c2dcf",
   "metadata": {},
   "outputs": [],
   "source": [
    "import pandas as pd\n",
    "import matplotlib.pyplot as plt\n"
   ]
  },
  {
   "cell_type": "code",
   "execution_count": 115,
   "id": "2050a068",
   "metadata": {},
   "outputs": [],
   "source": [
    "df_consultas = pd.read_csv(\"consultasambu.csv\")\n"
   ]
  },
  {
   "cell_type": "code",
   "execution_count": 102,
   "id": "3f6a9154",
   "metadata": {},
   "outputs": [
    {
     "data": {
      "text/html": [
       "<div>\n",
       "<style scoped>\n",
       "    .dataframe tbody tr th:only-of-type {\n",
       "        vertical-align: middle;\n",
       "    }\n",
       "\n",
       "    .dataframe tbody tr th {\n",
       "        vertical-align: top;\n",
       "    }\n",
       "\n",
       "    .dataframe thead th {\n",
       "        text-align: right;\n",
       "    }\n",
       "</style>\n",
       "<table border=\"1\" class=\"dataframe\">\n",
       "  <thead>\n",
       "    <tr style=\"text-align: right;\">\n",
       "      <th></th>\n",
       "      <th>Data/Hora_ Consulta Ambulatorial</th>\n",
       "      <th>Especialidade</th>\n",
       "      <th>Município</th>\n",
       "      <th>Idade</th>\n",
       "      <th>Sexo</th>\n",
       "    </tr>\n",
       "  </thead>\n",
       "  <tbody>\n",
       "    <tr>\n",
       "      <th>0</th>\n",
       "      <td>02/01/2023 07:00</td>\n",
       "      <td>PSIQUIATRIA PEDIATRICA</td>\n",
       "      <td>NATAL</td>\n",
       "      <td>14.0</td>\n",
       "      <td>FEMININO</td>\n",
       "    </tr>\n",
       "    <tr>\n",
       "      <th>1</th>\n",
       "      <td>02/01/2023 07:00</td>\n",
       "      <td>PSIQUIATRIA PEDIATRICA</td>\n",
       "      <td>SÃO TOMÉ</td>\n",
       "      <td>13.0</td>\n",
       "      <td>MASCULINO</td>\n",
       "    </tr>\n",
       "    <tr>\n",
       "      <th>2</th>\n",
       "      <td>02/01/2023 07:00</td>\n",
       "      <td>PSIQUIATRIA PEDIATRICA</td>\n",
       "      <td>TANGARÁ</td>\n",
       "      <td>17.0</td>\n",
       "      <td>MASCULINO</td>\n",
       "    </tr>\n",
       "    <tr>\n",
       "      <th>3</th>\n",
       "      <td>02/01/2023 07:00</td>\n",
       "      <td>PSIQUIATRIA PEDIATRICA</td>\n",
       "      <td>NATAL</td>\n",
       "      <td>16.0</td>\n",
       "      <td>FEMININO</td>\n",
       "    </tr>\n",
       "    <tr>\n",
       "      <th>4</th>\n",
       "      <td>02/01/2023 07:00</td>\n",
       "      <td>NEUROLOGIA</td>\n",
       "      <td>NÍSIA FLORESTA</td>\n",
       "      <td>28.0</td>\n",
       "      <td>MASCULINO</td>\n",
       "    </tr>\n",
       "    <tr>\n",
       "      <th>...</th>\n",
       "      <td>...</td>\n",
       "      <td>...</td>\n",
       "      <td>...</td>\n",
       "      <td>...</td>\n",
       "      <td>...</td>\n",
       "    </tr>\n",
       "    <tr>\n",
       "      <th>212188</th>\n",
       "      <td>29/12/2023 15:00</td>\n",
       "      <td>OFTALMOLOGIA</td>\n",
       "      <td>CORONEL JOÃO PESSOA</td>\n",
       "      <td>86.0</td>\n",
       "      <td>MASCULINO</td>\n",
       "    </tr>\n",
       "    <tr>\n",
       "      <th>212189</th>\n",
       "      <td>29/12/2023 15:00</td>\n",
       "      <td>OFTALMOLOGIA</td>\n",
       "      <td>CRUZETA</td>\n",
       "      <td>20.0</td>\n",
       "      <td>FEMININO</td>\n",
       "    </tr>\n",
       "    <tr>\n",
       "      <th>212190</th>\n",
       "      <td>29/12/2023 16:00</td>\n",
       "      <td>OTORRINOLARINGOLOGIA</td>\n",
       "      <td>CAICÓ</td>\n",
       "      <td>27.0</td>\n",
       "      <td>MASCULINO</td>\n",
       "    </tr>\n",
       "    <tr>\n",
       "      <th>212191</th>\n",
       "      <td>29/12/2023 16:00</td>\n",
       "      <td>OTORRINOLARINGOLOGIA</td>\n",
       "      <td>SÃO PAULO DO POTENGI</td>\n",
       "      <td>70.0</td>\n",
       "      <td>FEMININO</td>\n",
       "    </tr>\n",
       "    <tr>\n",
       "      <th>212192</th>\n",
       "      <td>29/12/2023 16:00</td>\n",
       "      <td>OTORRINOLARINGOLOGIA</td>\n",
       "      <td>ANTÔNIO MARTINS</td>\n",
       "      <td>8.0</td>\n",
       "      <td>MASCULINO</td>\n",
       "    </tr>\n",
       "  </tbody>\n",
       "</table>\n",
       "<p>212193 rows × 5 columns</p>\n",
       "</div>"
      ],
      "text/plain": [
       "       Data/Hora_ Consulta Ambulatorial           Especialidade  \\\n",
       "0                      02/01/2023 07:00  PSIQUIATRIA PEDIATRICA   \n",
       "1                      02/01/2023 07:00  PSIQUIATRIA PEDIATRICA   \n",
       "2                      02/01/2023 07:00  PSIQUIATRIA PEDIATRICA   \n",
       "3                      02/01/2023 07:00  PSIQUIATRIA PEDIATRICA   \n",
       "4                      02/01/2023 07:00              NEUROLOGIA   \n",
       "...                                 ...                     ...   \n",
       "212188                 29/12/2023 15:00            OFTALMOLOGIA   \n",
       "212189                 29/12/2023 15:00            OFTALMOLOGIA   \n",
       "212190                 29/12/2023 16:00    OTORRINOLARINGOLOGIA   \n",
       "212191                 29/12/2023 16:00    OTORRINOLARINGOLOGIA   \n",
       "212192                 29/12/2023 16:00    OTORRINOLARINGOLOGIA   \n",
       "\n",
       "                   Município  Idade       Sexo  \n",
       "0                      NATAL   14.0   FEMININO  \n",
       "1                   SÃO TOMÉ   13.0  MASCULINO  \n",
       "2                    TANGARÁ   17.0  MASCULINO  \n",
       "3                      NATAL   16.0   FEMININO  \n",
       "4             NÍSIA FLORESTA   28.0  MASCULINO  \n",
       "...                      ...    ...        ...  \n",
       "212188   CORONEL JOÃO PESSOA   86.0  MASCULINO  \n",
       "212189               CRUZETA   20.0   FEMININO  \n",
       "212190                 CAICÓ   27.0  MASCULINO  \n",
       "212191  SÃO PAULO DO POTENGI   70.0   FEMININO  \n",
       "212192       ANTÔNIO MARTINS    8.0  MASCULINO  \n",
       "\n",
       "[212193 rows x 5 columns]"
      ]
     },
     "execution_count": 102,
     "metadata": {},
     "output_type": "execute_result"
    }
   ],
   "source": [
    "df_consultas = df_consultas.dropna(how='all')\n",
    "df_consultas = df_consultas.dropna(axis=1, how='all')\n",
    "df_consultas"
   ]
  },
  {
   "cell_type": "code",
   "execution_count": 103,
   "id": "f4a47295",
   "metadata": {},
   "outputs": [
    {
     "data": {
      "text/plain": [
       "Município\n",
       "SANTA FÉ                    93.000000\n",
       "SANTO ANTÔNIO DO POTENGI    88.000000\n",
       "MATÃO                       83.000000\n",
       "NOVA FLORESTA               81.000000\n",
       "CAMPINA GRANDE              80.000000\n",
       "LAGOA DA PEDRA              73.000000\n",
       "SALVA VIDA                  72.000000\n",
       "RECIFE                      70.777778\n",
       "ITAPECERICA DA SERRA        69.000000\n",
       "TACIMA                      64.000000\n",
       "Name: Idade, dtype: float64"
      ]
     },
     "execution_count": 103,
     "metadata": {},
     "output_type": "execute_result"
    }
   ],
   "source": [
    "media_maiorid_por_municipio = df_consultas.groupby('Município')['Idade'].mean().sort_values(ascending=False)\n",
    "media_maiorid_por_municipio.head(10)"
   ]
  },
  {
   "cell_type": "code",
   "execution_count": null,
   "id": "62d8eac1",
   "metadata": {},
   "outputs": [],
   "source": []
  },
  {
   "cell_type": "code",
   "execution_count": 104,
   "id": "2da20ffa",
   "metadata": {},
   "outputs": [
    {
     "data": {
      "text/plain": [
       "Município\n",
       "BARRA DE SANTA ROSA          4.0\n",
       "PRESIDENTE JUSCELINO         4.5\n",
       "LAGOA DAS PEDRAS             5.0\n",
       "VILA VERDE                   6.0\n",
       "CAMOCIM                      7.0\n",
       "                            ... \n",
       "CAMPINA GRANDE              80.0\n",
       "NOVA FLORESTA               81.0\n",
       "MATÃO                       83.0\n",
       "SANTO ANTÔNIO DO POTENGI    88.0\n",
       "SANTA FÉ                    93.0\n",
       "Name: Idade, Length: 242, dtype: float64"
      ]
     },
     "execution_count": 104,
     "metadata": {},
     "output_type": "execute_result"
    }
   ],
   "source": [
    "media_menorid_municipio = df_consultas.groupby('Município')['Idade'].mean().sort_values(ascending=True)\n",
    "media_menorid_municipio"
   ]
  },
  {
   "cell_type": "code",
   "execution_count": 105,
   "id": "56542c21",
   "metadata": {},
   "outputs": [
    {
     "name": "stdout",
     "output_type": "stream",
     "text": [
      "\n",
      "Média da idade: 44.00\n",
      "Mediana da idade: 48.00\n",
      "Assimetria (média - mediana): -4.00\n"
     ]
    }
   ],
   "source": [
    "media = df_consultas['Idade'].mean()\n",
    "mediana = df_consultas['Idade'].median()\n",
    "assimetria = media - mediana\n",
    "print(f\"\\nMédia da idade: {media:.2f}\")\n",
    "print(f\"Mediana da idade: {mediana:.2f}\")\n",
    "print(f\"Assimetria (média - mediana): {assimetria:.2f}\")"
   ]
  },
  {
   "cell_type": "code",
   "execution_count": 106,
   "id": "1c6d09d4",
   "metadata": {},
   "outputs": [
    {
     "name": "stdout",
     "output_type": "stream",
     "text": [
      "Q1 (25%): 26.0\n",
      "Q2 (Mediana): 48.0\n",
      "Q3 (75%): 63.0\n",
      "IQR: 37.0\n",
      "Limite inferior para outliers: -29.5\n",
      "Limite superior para outliers: 118.5\n"
     ]
    }
   ],
   "source": [
    "q1 = df_consultas['Idade'].quantile(0.25)\n",
    "q2 = df_consultas['Idade'].quantile(0.50)  \n",
    "q3 = df_consultas['Idade'].quantile(0.75)\n",
    "iqr = q3 - q1\n",
    "limite_inferior = q1 - 1.5 * iqr\n",
    "limite_superior = q3 + 1.5 * iqr\n",
    "outliers = df_consultas[(df_consultas['Idade'] < limite_inferior) | (df_consultas['Idade'] > limite_superior)]\n",
    "print(\"Q1 (25%):\", q1)\n",
    "print(\"Q2 (Mediana):\", q2)\n",
    "print(\"Q3 (75%):\", q3)\n",
    "print(\"IQR:\", iqr)\n",
    "print(\"Limite inferior para outliers:\", limite_inferior)\n",
    "print(\"Limite superior para outliers:\", limite_superior)\n"
   ]
  },
  {
   "cell_type": "code",
   "execution_count": 107,
   "id": "0444c2e5",
   "metadata": {},
   "outputs": [
    {
     "data": {
      "text/plain": [
       "Especialidade\n",
       "GERIATRIA                       75.696970\n",
       "CLINICA GERAL                   69.375887\n",
       "ONCOLOGIA CLÍNICA               61.364917\n",
       "CIRURGIA ONCOLOGICA             59.135852\n",
       "CIRURGIA CARDIACA               58.750000\n",
       "                                  ...    \n",
       "ALERGOLOGIA PEDIATRICA           5.932902\n",
       "CIRURGIA PEDIATRICA GERAL        4.881579\n",
       "GASTROENTEROLOGIA PEDIÁTRICA     4.710038\n",
       "INFECTOLOGIA PEDIÁTRICA          2.823374\n",
       "PEDIATRIA                        2.401686\n",
       "Name: Idade, Length: 65, dtype: float64"
      ]
     },
     "execution_count": 107,
     "metadata": {},
     "output_type": "execute_result"
    }
   ],
   "source": [
    "especialidade_idade = df_consultas.groupby('Especialidade')['Idade'].mean().sort_values(ascending=False)\n",
    "especialidade_idade"
   ]
  },
  {
   "cell_type": "code",
   "execution_count": 108,
   "id": "0a9d51e3",
   "metadata": {},
   "outputs": [
    {
     "data": {
      "text/html": [
       "<div>\n",
       "<style scoped>\n",
       "    .dataframe tbody tr th:only-of-type {\n",
       "        vertical-align: middle;\n",
       "    }\n",
       "\n",
       "    .dataframe tbody tr th {\n",
       "        vertical-align: top;\n",
       "    }\n",
       "\n",
       "    .dataframe thead th {\n",
       "        text-align: right;\n",
       "    }\n",
       "</style>\n",
       "<table border=\"1\" class=\"dataframe\">\n",
       "  <thead>\n",
       "    <tr style=\"text-align: right;\">\n",
       "      <th></th>\n",
       "      <th>Especialidade</th>\n",
       "      <th>Consultas</th>\n",
       "    </tr>\n",
       "  </thead>\n",
       "  <tbody>\n",
       "    <tr>\n",
       "      <th>0</th>\n",
       "      <td>ALERGOLOGIA PEDIATRICA</td>\n",
       "      <td>1237</td>\n",
       "    </tr>\n",
       "    <tr>\n",
       "      <th>1</th>\n",
       "      <td>ANESTESIOLOGIA</td>\n",
       "      <td>1467</td>\n",
       "    </tr>\n",
       "    <tr>\n",
       "      <th>2</th>\n",
       "      <td>CARDIOLOGIA</td>\n",
       "      <td>14810</td>\n",
       "    </tr>\n",
       "    <tr>\n",
       "      <th>3</th>\n",
       "      <td>CARDIOLOGIA PEDIÁTRICA</td>\n",
       "      <td>2534</td>\n",
       "    </tr>\n",
       "    <tr>\n",
       "      <th>4</th>\n",
       "      <td>CIRURGIA BARIATRICA</td>\n",
       "      <td>1088</td>\n",
       "    </tr>\n",
       "    <tr>\n",
       "      <th>...</th>\n",
       "      <td>...</td>\n",
       "      <td>...</td>\n",
       "    </tr>\n",
       "    <tr>\n",
       "      <th>60</th>\n",
       "      <td>SERVIÇO SOCIAL</td>\n",
       "      <td>560</td>\n",
       "    </tr>\n",
       "    <tr>\n",
       "      <th>61</th>\n",
       "      <td>TERAPIA OCUPACIONAL</td>\n",
       "      <td>2946</td>\n",
       "    </tr>\n",
       "    <tr>\n",
       "      <th>62</th>\n",
       "      <td>TRANSPLANTE RENAL UROLOGIA</td>\n",
       "      <td>308</td>\n",
       "    </tr>\n",
       "    <tr>\n",
       "      <th>63</th>\n",
       "      <td>TX RENAL - PROCEDIMENTOS</td>\n",
       "      <td>121</td>\n",
       "    </tr>\n",
       "    <tr>\n",
       "      <th>64</th>\n",
       "      <td>UROLOGIA</td>\n",
       "      <td>10969</td>\n",
       "    </tr>\n",
       "  </tbody>\n",
       "</table>\n",
       "<p>65 rows × 2 columns</p>\n",
       "</div>"
      ],
      "text/plain": [
       "                 Especialidade  Consultas\n",
       "0       ALERGOLOGIA PEDIATRICA       1237\n",
       "1               ANESTESIOLOGIA       1467\n",
       "2                  CARDIOLOGIA      14810\n",
       "3       CARDIOLOGIA PEDIÁTRICA       2534\n",
       "4          CIRURGIA BARIATRICA       1088\n",
       "..                         ...        ...\n",
       "60              SERVIÇO SOCIAL        560\n",
       "61         TERAPIA OCUPACIONAL       2946\n",
       "62  TRANSPLANTE RENAL UROLOGIA        308\n",
       "63    TX RENAL - PROCEDIMENTOS        121\n",
       "64                    UROLOGIA      10969\n",
       "\n",
       "[65 rows x 2 columns]"
      ]
     },
     "execution_count": 108,
     "metadata": {},
     "output_type": "execute_result"
    }
   ],
   "source": [
    "especialidades = df_consultas.groupby(['Especialidade']).size().reset_index(name='Consultas')\n",
    "especialidades\n"
   ]
  },
  {
   "cell_type": "code",
   "execution_count": 109,
   "id": "99707998",
   "metadata": {},
   "outputs": [
    {
     "data": {
      "text/html": [
       "<div>\n",
       "<style scoped>\n",
       "    .dataframe tbody tr th:only-of-type {\n",
       "        vertical-align: middle;\n",
       "    }\n",
       "\n",
       "    .dataframe tbody tr th {\n",
       "        vertical-align: top;\n",
       "    }\n",
       "\n",
       "    .dataframe thead th {\n",
       "        text-align: right;\n",
       "    }\n",
       "</style>\n",
       "<table border=\"1\" class=\"dataframe\">\n",
       "  <thead>\n",
       "    <tr style=\"text-align: right;\">\n",
       "      <th></th>\n",
       "      <th>Sexo</th>\n",
       "      <th>Consultas</th>\n",
       "    </tr>\n",
       "  </thead>\n",
       "  <tbody>\n",
       "    <tr>\n",
       "      <th>0</th>\n",
       "      <td>FEMININO</td>\n",
       "      <td>115989</td>\n",
       "    </tr>\n",
       "    <tr>\n",
       "      <th>1</th>\n",
       "      <td>INFEFINIDO</td>\n",
       "      <td>48</td>\n",
       "    </tr>\n",
       "    <tr>\n",
       "      <th>2</th>\n",
       "      <td>MASCULINO</td>\n",
       "      <td>92130</td>\n",
       "    </tr>\n",
       "  </tbody>\n",
       "</table>\n",
       "</div>"
      ],
      "text/plain": [
       "         Sexo  Consultas\n",
       "0    FEMININO     115989\n",
       "1  INFEFINIDO         48\n",
       "2   MASCULINO      92130"
      ]
     },
     "execution_count": 109,
     "metadata": {},
     "output_type": "execute_result"
    }
   ],
   "source": [
    "consultas_sexo = df_consultas.groupby(['Sexo']).size().reset_index(name='Consultas')\n",
    "consultas_sexo \n"
   ]
  },
  {
   "cell_type": "code",
   "execution_count": 110,
   "id": "e11e0cf0",
   "metadata": {},
   "outputs": [
    {
     "data": {
      "text/plain": [
       "Sexo\n",
       "FEMININO      44.794403\n",
       "INFEFINIDO    44.416667\n",
       "MASCULINO     43.197547\n",
       "Name: Idade, dtype: float64"
      ]
     },
     "execution_count": 110,
     "metadata": {},
     "output_type": "execute_result"
    }
   ],
   "source": [
    "media_idade_sexo = df_consultas.groupby('Sexo')['Idade'].mean().sort_values(ascending=False)\n",
    "media_idade_sexo"
   ]
  },
  {
   "cell_type": "code",
   "execution_count": 111,
   "id": "9a0b1bb3",
   "metadata": {},
   "outputs": [
    {
     "data": {
      "image/png": "[encoded data removed]",
      "text/plain": [
       "<Figure size 640x480 with 1 Axes>"
      ]
     },
     "metadata": {},
     "output_type": "display_data"
    },
    {
     "data": {
      "text/plain": [
       "Município\n",
       "SANTA FÉ                    93.0\n",
       "SANTO ANTÔNIO DO POTENGI    88.0\n",
       "MATÃO                       83.0\n",
       "NOVA FLORESTA               81.0\n",
       "CAMPINA GRANDE              80.0\n",
       "Name: Idade, dtype: float64"
      ]
     },
     "execution_count": 111,
     "metadata": {},
     "output_type": "execute_result"
    }
   ],
   "source": [
    "top10_media_maiorid_por_municipio = media_maiorid_por_municipio.head(10).sort_values(ascending=True)\n",
    "top10_media_maiorid_por_municipio.plot(kind='barh', x='Município', y='Idade')\n",
    "plt.xlabel('Média idade')\n",
    "plt.ylabel('Municipios')\n",
    "plt.title('Municipios com Maior média de idade de atendimentos')\n",
    "plt.show()\n",
    "media_maiorid_por_municipio.head()"
   ]
  },
  {
   "cell_type": "code",
   "execution_count": 112,
   "id": "234d88ee",
   "metadata": {},
   "outputs": [
    {
     "data": {
      "image/png": "[encoded data removed]",
      "text/plain": [
       "<Figure size 640x480 with 1 Axes>"
      ]
     },
     "metadata": {},
     "output_type": "display_data"
    },
    {
     "data": {
      "text/plain": [
       "Município\n",
       "Monte Alegre do Sul         14.000000\n",
       "SÃO JOSÉ DA LAGOA TAPADA    12.000000\n",
       "SERRA DA TAPUIA              9.666667\n",
       "FORMOSA DA SERRA NEGRA       9.500000\n",
       "POMBAL                       9.000000\n",
       "CAMOCIM                      7.000000\n",
       "VILA VERDE                   6.000000\n",
       "LAGOA DAS PEDRAS             5.000000\n",
       "PRESIDENTE JUSCELINO         4.500000\n",
       "BARRA DE SANTA ROSA          4.000000\n",
       "Name: Idade, dtype: float64"
      ]
     },
     "execution_count": 112,
     "metadata": {},
     "output_type": "execute_result"
    }
   ],
   "source": [
    "top10_media_menorid_por_municipio = media_menorid_municipio.head(10).sort_values(ascending=False)\n",
    "top10_media_menorid_por_municipio.plot(kind='barh', x='Município', y='Idade')\n",
    "plt.xlabel('Média idade')\n",
    "plt.ylabel('Municipios')\n",
    "plt.title('Municipios com Menor média de idade de atendimentos')\n",
    "plt.show()\n",
    "top10_media_menorid_por_municipio"
   ]
  },
  {
   "cell_type": "code",
   "execution_count": 113,
   "id": "80e7b994",
   "metadata": {},
   "outputs": [
    {
     "data": {
      "image/png": "[encoded data removed]",
      "text/plain": [
       "<Figure size 640x480 with 1 Axes>"
      ]
     },
     "metadata": {},
     "output_type": "display_data"
    },
    {
     "data": {
      "text/html": [
       "<div>\n",
       "<style scoped>\n",
       "    .dataframe tbody tr th:only-of-type {\n",
       "        vertical-align: middle;\n",
       "    }\n",
       "\n",
       "    .dataframe tbody tr th {\n",
       "        vertical-align: top;\n",
       "    }\n",
       "\n",
       "    .dataframe thead th {\n",
       "        text-align: right;\n",
       "    }\n",
       "</style>\n",
       "<table border=\"1\" class=\"dataframe\">\n",
       "  <thead>\n",
       "    <tr style=\"text-align: right;\">\n",
       "      <th></th>\n",
       "      <th>Especialidade</th>\n",
       "      <th>Consultas</th>\n",
       "    </tr>\n",
       "  </thead>\n",
       "  <tbody>\n",
       "    <tr>\n",
       "      <th>0</th>\n",
       "      <td>ALERGOLOGIA PEDIATRICA</td>\n",
       "      <td>1237</td>\n",
       "    </tr>\n",
       "    <tr>\n",
       "      <th>1</th>\n",
       "      <td>ANESTESIOLOGIA</td>\n",
       "      <td>1467</td>\n",
       "    </tr>\n",
       "    <tr>\n",
       "      <th>2</th>\n",
       "      <td>CARDIOLOGIA</td>\n",
       "      <td>14810</td>\n",
       "    </tr>\n",
       "    <tr>\n",
       "      <th>3</th>\n",
       "      <td>CARDIOLOGIA PEDIÁTRICA</td>\n",
       "      <td>2534</td>\n",
       "    </tr>\n",
       "    <tr>\n",
       "      <th>4</th>\n",
       "      <td>CIRURGIA BARIATRICA</td>\n",
       "      <td>1088</td>\n",
       "    </tr>\n",
       "    <tr>\n",
       "      <th>5</th>\n",
       "      <td>CIRURGIA CARDIACA</td>\n",
       "      <td>68</td>\n",
       "    </tr>\n",
       "    <tr>\n",
       "      <th>6</th>\n",
       "      <td>CIRURGIA DE CABEÇA E PESCOÇO</td>\n",
       "      <td>1608</td>\n",
       "    </tr>\n",
       "    <tr>\n",
       "      <th>7</th>\n",
       "      <td>CIRURGIA DO APARELHO DIGESTIVO</td>\n",
       "      <td>250</td>\n",
       "    </tr>\n",
       "    <tr>\n",
       "      <th>8</th>\n",
       "      <td>CIRURGIA GERAL</td>\n",
       "      <td>3889</td>\n",
       "    </tr>\n",
       "    <tr>\n",
       "      <th>9</th>\n",
       "      <td>CIRURGIA ONCOLOGICA</td>\n",
       "      <td>1509</td>\n",
       "    </tr>\n",
       "  </tbody>\n",
       "</table>\n",
       "</div>"
      ],
      "text/plain": [
       "                    Especialidade  Consultas\n",
       "0          ALERGOLOGIA PEDIATRICA       1237\n",
       "1                  ANESTESIOLOGIA       1467\n",
       "2                     CARDIOLOGIA      14810\n",
       "3          CARDIOLOGIA PEDIÁTRICA       2534\n",
       "4             CIRURGIA BARIATRICA       1088\n",
       "5               CIRURGIA CARDIACA         68\n",
       "6    CIRURGIA DE CABEÇA E PESCOÇO       1608\n",
       "7  CIRURGIA DO APARELHO DIGESTIVO        250\n",
       "8                  CIRURGIA GERAL       3889\n",
       "9             CIRURGIA ONCOLOGICA       1509"
      ]
     },
     "execution_count": 113,
     "metadata": {},
     "output_type": "execute_result"
    }
   ],
   "source": [
    "top10_especialidades = especialidades.head(10)\n",
    "top10_especialidades.plot(kind='barh', x='Especialidade', y='Consultas')\n",
    "plt.xlabel('Consultas')\n",
    "plt.ylabel('Especialidades')\n",
    "plt.title('Maior quantidade de consultas por especialidade')\n",
    "plt.show()\n",
    "top10_especialidades"
   ]
  },
  {
   "cell_type": "code",
   "execution_count": 114,
   "id": "27d0b937",
   "metadata": {},
   "outputs": [
    {
     "data": {
      "image/png": "[encoded data removed]",
      "text/plain": [
       "<Figure size 640x480 with 1 Axes>"
      ]
     },
     "metadata": {},
     "output_type": "display_data"
    },
    {
     "data": {
      "text/html": [
       "<div>\n",
       "<style scoped>\n",
       "    .dataframe tbody tr th:only-of-type {\n",
       "        vertical-align: middle;\n",
       "    }\n",
       "\n",
       "    .dataframe tbody tr th {\n",
       "        vertical-align: top;\n",
       "    }\n",
       "\n",
       "    .dataframe thead th {\n",
       "        text-align: right;\n",
       "    }\n",
       "</style>\n",
       "<table border=\"1\" class=\"dataframe\">\n",
       "  <thead>\n",
       "    <tr style=\"text-align: right;\">\n",
       "      <th></th>\n",
       "      <th>Sexo</th>\n",
       "      <th>Consultas</th>\n",
       "    </tr>\n",
       "  </thead>\n",
       "  <tbody>\n",
       "    <tr>\n",
       "      <th>0</th>\n",
       "      <td>FEMININO</td>\n",
       "      <td>115989</td>\n",
       "    </tr>\n",
       "    <tr>\n",
       "      <th>1</th>\n",
       "      <td>INFEFINIDO</td>\n",
       "      <td>48</td>\n",
       "    </tr>\n",
       "    <tr>\n",
       "      <th>2</th>\n",
       "      <td>MASCULINO</td>\n",
       "      <td>92130</td>\n",
       "    </tr>\n",
       "  </tbody>\n",
       "</table>\n",
       "</div>"
      ],
      "text/plain": [
       "         Sexo  Consultas\n",
       "0    FEMININO     115989\n",
       "1  INFEFINIDO         48\n",
       "2   MASCULINO      92130"
      ]
     },
     "execution_count": 114,
     "metadata": {},
     "output_type": "execute_result"
    }
   ],
   "source": [
    "consultas_sexo.plot(kind='barh', x='Sexo', y='Consultas')\n",
    "plt.xlabel('Consultas')\n",
    "plt.ylabel('Sexo')\n",
    "plt.title('Quantidade de consultas por sexo')\n",
    "plt.show()\n",
    "consultas_sexo"
   ]
  }
 ],
 "metadata": {
  "kernelspec": {
   "display_name": "Python 3",
   "language": "python",
   "name": "python3"
  },
  "language_info": {
   "codemirror_mode": {
    "name": "ipython",
    "version": 3
   },
   "file_extension": ".py",
   "mimetype": "text/x-python",
   "name": "python",
   "nbconvert_exporter": "python",
   "pygments_lexer": "ipython3",
   "version": "3.13.3"
  }
 },
 "nbformat": 4,
 "nbformat_minor": 5
}
